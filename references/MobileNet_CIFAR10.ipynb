{
  "nbformat": 4,
  "nbformat_minor": 0,
  "metadata": {
    "kernelspec": {
      "display_name": "Python 3",
      "language": "python",
      "name": "python3"
    },
    "language_info": {
      "codemirror_mode": {
        "name": "ipython",
        "version": 3
      },
      "file_extension": ".py",
      "mimetype": "text/x-python",
      "name": "python",
      "nbconvert_exporter": "python",
      "pygments_lexer": "ipython3",
      "version": "3.8.3"
    },
    "colab": {
      "name": "MobileNet_CIFAR10.ipynb",
      "provenance": []
    },
    "accelerator": "GPU",
    "widgets": {
      "application/vnd.jupyter.widget-state+json": {
        "4c02775afd054ac38a43c52e8ebd3ba0": {
          "model_module": "@jupyter-widgets/controls",
          "model_name": "HBoxModel",
          "state": {
            "_view_name": "HBoxView",
            "_dom_classes": [],
            "_model_name": "HBoxModel",
            "_view_module": "@jupyter-widgets/controls",
            "_model_module_version": "1.5.0",
            "_view_count": null,
            "_view_module_version": "1.5.0",
            "box_style": "",
            "layout": "IPY_MODEL_771572a1a490458e967126b96c24712c",
            "_model_module": "@jupyter-widgets/controls",
            "children": [
              "IPY_MODEL_f2618a3fc18d40e68bffbee79e300a54",
              "IPY_MODEL_b8219777fec94248be8f2bdd559b4ee3"
            ]
          },
          "model_module_version": "1.5.0"
        },
        "771572a1a490458e967126b96c24712c": {
          "model_module": "@jupyter-widgets/base",
          "model_name": "LayoutModel",
          "state": {
            "_view_name": "LayoutView",
            "grid_template_rows": null,
            "right": null,
            "justify_content": null,
            "_view_module": "@jupyter-widgets/base",
            "overflow": null,
            "_model_module_version": "1.2.0",
            "_view_count": null,
            "flex_flow": null,
            "width": null,
            "min_width": null,
            "border": null,
            "align_items": null,
            "bottom": null,
            "_model_module": "@jupyter-widgets/base",
            "top": null,
            "grid_column": null,
            "overflow_y": null,
            "overflow_x": null,
            "grid_auto_flow": null,
            "grid_area": null,
            "grid_template_columns": null,
            "flex": null,
            "_model_name": "LayoutModel",
            "justify_items": null,
            "grid_row": null,
            "max_height": null,
            "align_content": null,
            "visibility": null,
            "align_self": null,
            "height": null,
            "min_height": null,
            "padding": null,
            "grid_auto_rows": null,
            "grid_gap": null,
            "max_width": null,
            "order": null,
            "_view_module_version": "1.2.0",
            "grid_template_areas": null,
            "object_position": null,
            "object_fit": null,
            "grid_auto_columns": null,
            "margin": null,
            "display": null,
            "left": null
          },
          "model_module_version": "1.2.0"
        },
        "f2618a3fc18d40e68bffbee79e300a54": {
          "model_module": "@jupyter-widgets/controls",
          "model_name": "FloatProgressModel",
          "state": {
            "_view_name": "ProgressView",
            "style": "IPY_MODEL_75af96ae0ec643f48e5fd94432923eac",
            "_dom_classes": [],
            "description": "",
            "_model_name": "FloatProgressModel",
            "bar_style": "success",
            "max": 1,
            "_view_module": "@jupyter-widgets/controls",
            "_model_module_version": "1.5.0",
            "value": 1,
            "_view_count": null,
            "_view_module_version": "1.5.0",
            "orientation": "horizontal",
            "min": 0,
            "description_tooltip": null,
            "_model_module": "@jupyter-widgets/controls",
            "layout": "IPY_MODEL_d1aa01b5ed014f4ba5bd4429e97e5faa"
          },
          "model_module_version": "1.5.0"
        },
        "b8219777fec94248be8f2bdd559b4ee3": {
          "model_module": "@jupyter-widgets/controls",
          "model_name": "HTMLModel",
          "state": {
            "_view_name": "HTMLView",
            "style": "IPY_MODEL_6c1fb1330e194da0a9ee122d12d50301",
            "_dom_classes": [],
            "description": "",
            "_model_name": "HTMLModel",
            "placeholder": "​",
            "_view_module": "@jupyter-widgets/controls",
            "_model_module_version": "1.5.0",
            "value": " 170500096/? [00:06&lt;00:00, 26797292.21it/s]",
            "_view_count": null,
            "_view_module_version": "1.5.0",
            "description_tooltip": null,
            "_model_module": "@jupyter-widgets/controls",
            "layout": "IPY_MODEL_c4565a6697e14ed590485ee443d68859"
          },
          "model_module_version": "1.5.0"
        },
        "75af96ae0ec643f48e5fd94432923eac": {
          "model_module": "@jupyter-widgets/controls",
          "model_name": "ProgressStyleModel",
          "state": {
            "_view_name": "StyleView",
            "_model_name": "ProgressStyleModel",
            "description_width": "initial",
            "_view_module": "@jupyter-widgets/base",
            "_model_module_version": "1.5.0",
            "_view_count": null,
            "_view_module_version": "1.2.0",
            "bar_color": null,
            "_model_module": "@jupyter-widgets/controls"
          },
          "model_module_version": "1.5.0"
        },
        "d1aa01b5ed014f4ba5bd4429e97e5faa": {
          "model_module": "@jupyter-widgets/base",
          "model_name": "LayoutModel",
          "state": {
            "_view_name": "LayoutView",
            "grid_template_rows": null,
            "right": null,
            "justify_content": null,
            "_view_module": "@jupyter-widgets/base",
            "overflow": null,
            "_model_module_version": "1.2.0",
            "_view_count": null,
            "flex_flow": null,
            "width": null,
            "min_width": null,
            "border": null,
            "align_items": null,
            "bottom": null,
            "_model_module": "@jupyter-widgets/base",
            "top": null,
            "grid_column": null,
            "overflow_y": null,
            "overflow_x": null,
            "grid_auto_flow": null,
            "grid_area": null,
            "grid_template_columns": null,
            "flex": null,
            "_model_name": "LayoutModel",
            "justify_items": null,
            "grid_row": null,
            "max_height": null,
            "align_content": null,
            "visibility": null,
            "align_self": null,
            "height": null,
            "min_height": null,
            "padding": null,
            "grid_auto_rows": null,
            "grid_gap": null,
            "max_width": null,
            "order": null,
            "_view_module_version": "1.2.0",
            "grid_template_areas": null,
            "object_position": null,
            "object_fit": null,
            "grid_auto_columns": null,
            "margin": null,
            "display": null,
            "left": null
          },
          "model_module_version": "1.2.0"
        },
        "6c1fb1330e194da0a9ee122d12d50301": {
          "model_module": "@jupyter-widgets/controls",
          "model_name": "DescriptionStyleModel",
          "state": {
            "_view_name": "StyleView",
            "_model_name": "DescriptionStyleModel",
            "description_width": "",
            "_view_module": "@jupyter-widgets/base",
            "_model_module_version": "1.5.0",
            "_view_count": null,
            "_view_module_version": "1.2.0",
            "_model_module": "@jupyter-widgets/controls"
          },
          "model_module_version": "1.5.0"
        },
        "c4565a6697e14ed590485ee443d68859": {
          "model_module": "@jupyter-widgets/base",
          "model_name": "LayoutModel",
          "state": {
            "_view_name": "LayoutView",
            "grid_template_rows": null,
            "right": null,
            "justify_content": null,
            "_view_module": "@jupyter-widgets/base",
            "overflow": null,
            "_model_module_version": "1.2.0",
            "_view_count": null,
            "flex_flow": null,
            "width": null,
            "min_width": null,
            "border": null,
            "align_items": null,
            "bottom": null,
            "_model_module": "@jupyter-widgets/base",
            "top": null,
            "grid_column": null,
            "overflow_y": null,
            "overflow_x": null,
            "grid_auto_flow": null,
            "grid_area": null,
            "grid_template_columns": null,
            "flex": null,
            "_model_name": "LayoutModel",
            "justify_items": null,
            "grid_row": null,
            "max_height": null,
            "align_content": null,
            "visibility": null,
            "align_self": null,
            "height": null,
            "min_height": null,
            "padding": null,
            "grid_auto_rows": null,
            "grid_gap": null,
            "max_width": null,
            "order": null,
            "_view_module_version": "1.2.0",
            "grid_template_areas": null,
            "object_position": null,
            "object_fit": null,
            "grid_auto_columns": null,
            "margin": null,
            "display": null,
            "left": null
          },
          "model_module_version": "1.2.0"
        }
      }
    }
  },
  "cells": [
    {
      "cell_type": "code",
      "metadata": {
        "id": "KMotAo75pVtm"
      },
      "source": [
        "import torch\n",
        "import torchvision\n",
        "from torch.utils.tensorboard import SummaryWriter"
      ],
      "execution_count": null,
      "outputs": []
    },
    {
      "cell_type": "code",
      "metadata": {
        "colab": {
          "base_uri": "https://localhost:8080/"
        },
        "id": "2gAKYE6MqD0N",
        "outputId": "15cb7870-0c60-4d93-cb85-ae915d5e12e8"
      },
      "source": [
        "torch.cuda.is_available()"
      ],
      "execution_count": null,
      "outputs": [
        {
          "output_type": "execute_result",
          "data": {
            "text/plain": [
              "True"
            ]
          },
          "metadata": {
            "tags": []
          },
          "execution_count": 2
        }
      ]
    },
    {
      "cell_type": "code",
      "metadata": {
        "colab": {
          "base_uri": "https://localhost:8080/"
        },
        "id": "6C2sdpQ4uJTJ",
        "outputId": "c4f87ccf-3d47-49bb-9bd6-0d5fbda94a66"
      },
      "source": [
        "print('ID of current CUDA device: ', torch.cuda.current_device())\n",
        "print('Name of current CUDA device is: ', torch.cuda.get_device_name(torch.cuda.current_device()))\n",
        "print('Amount of GPU memory allocated: ', torch.cuda.memory_allocated(torch.cuda.current_device()))\n",
        "print('Amount of GPU memory reserved: ', torch.cuda.memory_reserved(torch.cuda.current_device()))"
      ],
      "execution_count": null,
      "outputs": [
        {
          "output_type": "stream",
          "text": [
            "ID of current CUDA device:  0\n",
            "Name of current CUDA device is:  Tesla T4\n",
            "Amount of GPU memory allocated:  0\n",
            "Amount of GPU memory reserved:  0\n"
          ],
          "name": "stdout"
        }
      ]
    },
    {
      "cell_type": "code",
      "metadata": {
        "id": "GHjVn-i1yxdS"
      },
      "source": [
        "# torch.cuda.empty_cache()"
      ],
      "execution_count": null,
      "outputs": []
    },
    {
      "cell_type": "code",
      "metadata": {
        "colab": {
          "base_uri": "https://localhost:8080/"
        },
        "id": "7oqK6LjspVtt",
        "outputId": "455bbd39-7945-4057-846b-23a13f572922"
      },
      "source": [
        "print(torch.__version__)\n",
        "print(torchvision.__version__)"
      ],
      "execution_count": null,
      "outputs": [
        {
          "output_type": "stream",
          "text": [
            "1.7.0+cu101\n",
            "0.8.1+cu101\n"
          ],
          "name": "stdout"
        }
      ]
    },
    {
      "cell_type": "code",
      "metadata": {
        "id": "-0nmSHd9pVtu"
      },
      "source": [
        "writer = SummaryWriter()"
      ],
      "execution_count": null,
      "outputs": []
    },
    {
      "cell_type": "markdown",
      "metadata": {
        "id": "h9qq1kJcpVtu"
      },
      "source": [
        "# Dataset"
      ]
    },
    {
      "cell_type": "code",
      "metadata": {
        "colab": {
          "base_uri": "https://localhost:8080/",
          "height": 168,
          "referenced_widgets": [
            "4c02775afd054ac38a43c52e8ebd3ba0",
            "771572a1a490458e967126b96c24712c",
            "f2618a3fc18d40e68bffbee79e300a54",
            "b8219777fec94248be8f2bdd559b4ee3",
            "75af96ae0ec643f48e5fd94432923eac",
            "d1aa01b5ed014f4ba5bd4429e97e5faa",
            "6c1fb1330e194da0a9ee122d12d50301",
            "c4565a6697e14ed590485ee443d68859"
          ]
        },
        "id": "QhWxVXyipVtu",
        "outputId": "0e3cb681-1e00-4541-b8cb-b32f806a0f69"
      },
      "source": [
        "torchvision.datasets.CIFAR10(root ='./',download = True)"
      ],
      "execution_count": null,
      "outputs": [
        {
          "output_type": "stream",
          "text": [
            "Downloading https://www.cs.toronto.edu/~kriz/cifar-10-python.tar.gz to ./cifar-10-python.tar.gz\n"
          ],
          "name": "stdout"
        },
        {
          "output_type": "display_data",
          "data": {
            "application/vnd.jupyter.widget-view+json": {
              "model_id": "4c02775afd054ac38a43c52e8ebd3ba0",
              "version_minor": 0,
              "version_major": 2
            },
            "text/plain": [
              "HBox(children=(FloatProgress(value=1.0, bar_style='info', max=1.0), HTML(value='')))"
            ]
          },
          "metadata": {
            "tags": []
          }
        },
        {
          "output_type": "stream",
          "text": [
            "Extracting ./cifar-10-python.tar.gz to ./\n",
            "\n"
          ],
          "name": "stdout"
        },
        {
          "output_type": "execute_result",
          "data": {
            "text/plain": [
              "Dataset CIFAR10\n",
              "    Number of datapoints: 50000\n",
              "    Root location: ./\n",
              "    Split: Train"
            ]
          },
          "metadata": {
            "tags": []
          },
          "execution_count": 22
        }
      ]
    },
    {
      "cell_type": "code",
      "metadata": {
        "colab": {
          "base_uri": "https://localhost:8080/"
        },
        "id": "d2tugZpypVtv",
        "outputId": "7b5d98bf-7002-42f8-bf07-a8c86d72bdf9"
      },
      "source": [
        "cifar10 = torchvision.datasets.CIFAR10(root='./')\n",
        "cifar10"
      ],
      "execution_count": null,
      "outputs": [
        {
          "output_type": "execute_result",
          "data": {
            "text/plain": [
              "Dataset CIFAR10\n",
              "    Number of datapoints: 50000\n",
              "    Root location: ./\n",
              "    Split: Train"
            ]
          },
          "metadata": {
            "tags": []
          },
          "execution_count": 23
        }
      ]
    },
    {
      "cell_type": "markdown",
      "metadata": {
        "id": "eDKNQbn_pVtv"
      },
      "source": [
        "# MobileNetV3 (small)"
      ]
    },
    {
      "cell_type": "code",
      "metadata": {
        "id": "xBeu_oDOpVtv"
      },
      "source": [
        "import torch.nn as nn"
      ],
      "execution_count": null,
      "outputs": []
    },
    {
      "cell_type": "code",
      "metadata": {
        "id": "GvgEJI_EpVtw"
      },
      "source": [
        "class hard_sigmoid(nn.Module):\n",
        "    def __init__(self, inplace = True):\n",
        "        super(hard_sigmoid, self).__init__()\n",
        "        self.h_sig = nn.ReLU6(inplace = inplace)\n",
        "    def forward(self, x):\n",
        "        x = self.h_sig(x+ 3.) / 6\n",
        "        return x"
      ],
      "execution_count": null,
      "outputs": []
    },
    {
      "cell_type": "code",
      "metadata": {
        "id": "FKYCL8lOpVtw"
      },
      "source": [
        "class hard_swish(nn.Module):\n",
        "    def __init__(self, inplace = True):\n",
        "        super(hard_swish, self).__init__()\n",
        "        self.h_sig = hard_sigmoid(inplace = inplace)\n",
        "    def forward(self, x):\n",
        "        x = x * self.h_sig(x)\n",
        "        return x"
      ],
      "execution_count": null,
      "outputs": []
    },
    {
      "cell_type": "code",
      "metadata": {
        "id": "eNlOotpjpVtw"
      },
      "source": [
        "def conv_1x1_bn(input, output, activation = nn.ReLU):\n",
        "    conv = nn.Sequential(\n",
        "        nn.Conv2d(input, output, 1, 1, 0, bias = False),\n",
        "        nn.BatchNorm2d(output),\n",
        "        activation(inplace = True)\n",
        "    )\n",
        "    return conv"
      ],
      "execution_count": null,
      "outputs": []
    },
    {
      "cell_type": "code",
      "metadata": {
        "id": "DH3oieFfpVtx"
      },
      "source": [
        "def conv_3x3_bn(input, output, activation = nn.ReLU, stride = 2):\n",
        "    conv = nn.Sequential(\n",
        "        nn.Conv2d(input, output, 3, stride, 1, bias = False),\n",
        "        nn.BatchNorm2d(output),\n",
        "        activation()\n",
        "    )\n",
        "    return conv"
      ],
      "execution_count": null,
      "outputs": []
    },
    {
      "cell_type": "code",
      "metadata": {
        "id": "0GzoDBV7pVtx"
      },
      "source": [
        "class SEBlock(nn.Module):\n",
        "    def __init__(self, channel, reduction = 4, SE = False):\n",
        "        super(SEBlock, self).__init__()\n",
        "        self.SE = SE\n",
        "        self.avg_pool = nn.AdaptiveAvgPool2d(1)\n",
        "        self.se = SE\n",
        "        self.exc_block = nn.Sequential(\n",
        "            nn.Linear(channel, channel // reduction, bias = False),\n",
        "            nn.ReLU(inplace = True),\n",
        "            nn.Linear(channel // reduction, channel, bias = False),\n",
        "            hard_sigmoid()\n",
        "        )\n",
        "    def forward(self, x):\n",
        "        if self.SE:\n",
        "            b, c, _, _ = x.size()\n",
        "            y = self.avg_pool(x).view(b,c)\n",
        "            y = self.exc_block(y).view(b, c, 1,1)\n",
        "            x = x *y.expand_as(x)\n",
        "        return x"
      ],
      "execution_count": null,
      "outputs": []
    },
    {
      "cell_type": "code",
      "metadata": {
        "id": "RAs9aG3IpVty"
      },
      "source": [
        "class Bottleneck(nn.Module):\n",
        "    def __init__(self, input, output, kernel, stride, exp_size, SE = False, act = 'RE'):\n",
        "        super(Bottleneck, self).__init__()\n",
        "        padding = (kernel - 1) // 2\n",
        "        sq_ex = SE\n",
        "        \n",
        "        if stride == 1 and input == output:\n",
        "            self.residual = True\n",
        "        else:\n",
        "            self.residual = False\n",
        "            \n",
        "        if act == 'RE':\n",
        "            activation = nn.ReLU\n",
        "        elif act == 'HS':\n",
        "            activation = hard_swish\n",
        "        \n",
        "        self.conv = nn.Sequential(\n",
        "            nn.Conv2d(input, exp_size, 1, 1, 0, bias = False),\n",
        "            nn.BatchNorm2d(exp_size),\n",
        "            activation(),\n",
        "            nn.Conv2d(exp_size, exp_size, kernel, stride, padding, groups = exp_size, bias = False),\n",
        "            nn.BatchNorm2d(exp_size),\n",
        "            SEBlock(channel = exp_size, SE = sq_ex),\n",
        "            activation(inplace = True),\n",
        "            nn.Conv2d(exp_size, output, 1, 1, 0, bias = False),\n",
        "            nn.BatchNorm2d(output)\n",
        "        )\n",
        "    def forward(self, x):\n",
        "        if self.residual:\n",
        "            x = x + self.conv(x)\n",
        "        else:\n",
        "            x = self.conv(x)\n",
        "        return x"
      ],
      "execution_count": null,
      "outputs": []
    },
    {
      "cell_type": "code",
      "metadata": {
        "id": "6GRforUmpVtz"
      },
      "source": [
        "class MobileNetV3(nn.Module):\n",
        "    def __init__(self, input_size = 224):\n",
        "        super(MobileNetV3, self).__init__()\n",
        "        if input_size == 32:\n",
        "            s = 1\n",
        "        else:\n",
        "            s = 2\n",
        "        mobile_setting = [\n",
        "                # k, exp, out,  se,     nl,  s,\n",
        "                [3, 16,  16,  True,  'RE', s],\n",
        "                [3, 72,  24,  False, 'RE', 2],\n",
        "                [3, 88,  24,  False, 'RE', 1],\n",
        "                [5, 96,  40,  True,  'HS', 2],\n",
        "                [5, 240, 40,  True,  'HS', 1],\n",
        "                [5, 240, 40,  True,  'HS', 1],\n",
        "                [5, 120, 48,  True,  'HS', 1],\n",
        "                [5, 144, 48,  True,  'HS', 1],\n",
        "                [5, 288, 96,  True,  'HS', 2],\n",
        "                [5, 576, 96,  True,  'HS', 1],\n",
        "                [5, 576, 96,  True,  'HS', 1]]\n",
        "        \n",
        "        input_channel = 16\n",
        "        self.net = [conv_3x3_bn(3, input_channel, activation = hard_swish)]\n",
        "        \n",
        "        for k, exp_size, out, se, nl, s in mobile_setting:\n",
        "            output_channel = out\n",
        "            self.net.append(Bottleneck(input_channel, output_channel, k, s, exp_size, se, nl))\n",
        "            input_channel = output_channel\n",
        "        self.net.append(conv_1x1_bn(input_channel, 576, activation = hard_swish))\n",
        "        self.net.append(nn.AdaptiveAvgPool2d(1))\n",
        "        self.net.append(nn.Conv2d(576, 1280, 1, 1, 0))\n",
        "        self.net.append(hard_swish())\n",
        "        \n",
        "        self.net = nn.Sequential(*self.net)\n",
        "        \n",
        "        self.classifier= nn.Sequential(\n",
        "            nn.Dropout(p = 0.8),\n",
        "            nn.Flatten(),\n",
        "            nn.Linear(1280, 10),\n",
        "            nn.Softmax()\n",
        "        )\n",
        "    def forward(self, x):\n",
        "        x = self.net(x)\n",
        "        x = self.classifier(x)\n",
        "        return x"
      ],
      "execution_count": null,
      "outputs": []
    },
    {
      "cell_type": "code",
      "metadata": {
        "id": "tqjU5HAkpVtz"
      },
      "source": [
        "net = MobileNetV3(input_size = 224)"
      ],
      "execution_count": null,
      "outputs": []
    },
    {
      "cell_type": "code",
      "metadata": {
        "id": "UVXTRuhppVtz"
      },
      "source": [
        "input_size=(1, 3, 224, 224)"
      ],
      "execution_count": null,
      "outputs": []
    },
    {
      "cell_type": "code",
      "metadata": {
        "colab": {
          "base_uri": "https://localhost:8080/"
        },
        "id": "RELDA3TvpVt0",
        "outputId": "38469cfb-6c87-45b7-a26f-d1ce2b3af060"
      },
      "source": [
        "x = torch.randn(input_size)\n",
        "out = net(x)"
      ],
      "execution_count": null,
      "outputs": [
        {
          "output_type": "stream",
          "text": [
            "/usr/local/lib/python3.6/dist-packages/torch/nn/modules/container.py:117: UserWarning: Implicit dimension choice for softmax has been deprecated. Change the call to include dim=X as an argument.\n",
            "  input = module(input)\n"
          ],
          "name": "stderr"
        }
      ]
    },
    {
      "cell_type": "code",
      "metadata": {
        "colab": {
          "base_uri": "https://localhost:8080/"
        },
        "id": "2e8hFONopVt0",
        "outputId": "2a426d7a-f196-42f9-ee9b-824e0186c0c7"
      },
      "source": [
        "out.shape"
      ],
      "execution_count": null,
      "outputs": [
        {
          "output_type": "execute_result",
          "data": {
            "text/plain": [
              "torch.Size([1, 10])"
            ]
          },
          "metadata": {
            "tags": []
          },
          "execution_count": 35
        }
      ]
    },
    {
      "cell_type": "markdown",
      "metadata": {
        "id": "qfjIH5JfpVt0"
      },
      "source": [
        "# Training preparation\n"
      ]
    },
    {
      "cell_type": "code",
      "metadata": {
        "id": "rX-0mPydpVt1"
      },
      "source": [
        "import os\n",
        "from torch.optim import lr_scheduler\n",
        "import torch.optim as optim\n",
        "from torch.nn import DataParallel"
      ],
      "execution_count": null,
      "outputs": []
    },
    {
      "cell_type": "code",
      "metadata": {
        "id": "-e1LZUu8pVt1"
      },
      "source": [
        "GPU = 0, 1"
      ],
      "execution_count": null,
      "outputs": []
    },
    {
      "cell_type": "code",
      "metadata": {
        "id": "fEuq7VIspVt1"
      },
      "source": [
        "gpu_list = ''\n",
        "multi_gpus = False\n",
        "if isinstance(GPU, int):\n",
        "    gpu_list = str(GPU)\n",
        "else:\n",
        "    multi_gpus = True\n",
        "    for i, gpu_id in enumerate(GPU):\n",
        "        gpu_list += str(gpu_id)\n",
        "        if i != len(GPU) - 1:\n",
        "            gpu_list += ','\n",
        "os.environ['CUDA_VISIBLE_DEVICES'] = gpu_list"
      ],
      "execution_count": null,
      "outputs": []
    },
    {
      "cell_type": "code",
      "metadata": {
        "id": "cy5b8sz6pVt1"
      },
      "source": [
        "net = net.cuda()\n",
        "if multi_gpus:\n",
        "    net = DataParallel(net)"
      ],
      "execution_count": null,
      "outputs": []
    },
    {
      "cell_type": "code",
      "metadata": {
        "id": "6iju5wsVpVt2"
      },
      "source": [
        "from torchvision import transforms"
      ],
      "execution_count": null,
      "outputs": []
    },
    {
      "cell_type": "code",
      "metadata": {
        "id": "MqvSMUyspVt2"
      },
      "source": [
        "augment_normalize_train = transforms.Compose([transforms.Resize(224),\n",
        "                                              transforms.RandomHorizontalFlip(),\n",
        "                     transforms.ToTensor(),\n",
        "                     transforms.Normalize((0.5071, 0.4865, 0.4409), (0.2673, 0.2564, 0.2762))])"
      ],
      "execution_count": null,
      "outputs": []
    },
    {
      "cell_type": "code",
      "metadata": {
        "id": "81OOe5lHpVt2"
      },
      "source": [
        "trainset = torchvision.datasets.CIFAR10(root='./', train = True, transform = augment_normalize_train)"
      ],
      "execution_count": null,
      "outputs": []
    },
    {
      "cell_type": "code",
      "metadata": {
        "id": "cX5C8ceApVt2"
      },
      "source": [
        "augment_normalize_test = transforms.Compose([transforms.Resize(224),\n",
        "                                             transforms.ToTensor(),\n",
        "                     transforms.Normalize((0.5071, 0.4865, 0.4409), (0.2673, 0.2564, 0.2762))])"
      ],
      "execution_count": null,
      "outputs": []
    },
    {
      "cell_type": "code",
      "metadata": {
        "id": "JiCZsAp3pVt2"
      },
      "source": [
        "testset = torchvision.datasets.CIFAR10(root='./', train = False, transform = augment_normalize_test)"
      ],
      "execution_count": null,
      "outputs": []
    },
    {
      "cell_type": "code",
      "metadata": {
        "id": "nsLrqGC1pVt3"
      },
      "source": [
        "img, label = trainset[0]"
      ],
      "execution_count": null,
      "outputs": []
    },
    {
      "cell_type": "code",
      "metadata": {
        "id": "PwjytZdYpVt3"
      },
      "source": [
        "import matplotlib.pyplot as plt\n",
        "import numpy as np\n",
        "\n",
        "def show(image):\n",
        "    plt.figure(figsize=(5,5))\n",
        "    plt.imshow(image)\n",
        "    plt.show()"
      ],
      "execution_count": null,
      "outputs": []
    },
    {
      "cell_type": "code",
      "metadata": {
        "colab": {
          "base_uri": "https://localhost:8080/",
          "height": 323
        },
        "id": "fTpP6lOwpVt3",
        "outputId": "8aa63554-0c6e-4731-99ca-01968393fe31"
      },
      "source": [
        "show(img[0])"
      ],
      "execution_count": null,
      "outputs": [
        {
          "output_type": "display_data",
          "data": {
            "image/png": "[encoded data removed]",
            "text/plain": [
              "<Figure size 360x360 with 1 Axes>"
            ]
          },
          "metadata": {
            "tags": [],
            "needs_background": "light"
          }
        }
      ]
    },
    {
      "cell_type": "code",
      "metadata": {
        "colab": {
          "base_uri": "https://localhost:8080/"
        },
        "id": "d2EiFDhKpVt3",
        "outputId": "de29d14e-942c-43c3-d813-56cec3603270"
      },
      "source": [
        "label"
      ],
      "execution_count": null,
      "outputs": [
        {
          "output_type": "execute_result",
          "data": {
            "text/plain": [
              "6"
            ]
          },
          "metadata": {
            "tags": []
          },
          "execution_count": 48
        }
      ]
    },
    {
      "cell_type": "code",
      "metadata": {
        "id": "55I57-htpVt4"
      },
      "source": [
        "trainloader = torch.utils.data.DataLoader(trainset, batch_size=128,\n",
        "                                          shuffle=True, num_workers=8, drop_last=False)"
      ],
      "execution_count": null,
      "outputs": []
    },
    {
      "cell_type": "code",
      "metadata": {
        "id": "k8fXVTcOpVt4"
      },
      "source": [
        "testloader = torch.utils.data.DataLoader(testset, batch_size=128,\n",
        "                                          shuffle=True, num_workers=8, drop_last=False)"
      ],
      "execution_count": null,
      "outputs": []
    },
    {
      "cell_type": "markdown",
      "metadata": {
        "id": "dJAUJXPupVt4"
      },
      "source": [
        "# Training"
      ]
    },
    {
      "cell_type": "code",
      "metadata": {
        "id": "fJk4niVEpVt4"
      },
      "source": [
        "import time\n",
        "from sklearn.metrics import f1_score, accuracy_score"
      ],
      "execution_count": null,
      "outputs": []
    },
    {
      "cell_type": "code",
      "metadata": {
        "id": "7J4mHXSQpVt5"
      },
      "source": [
        "EPOCHS = 400"
      ],
      "execution_count": null,
      "outputs": []
    },
    {
      "cell_type": "code",
      "metadata": {
        "id": "RRofEGrkpVt5"
      },
      "source": [
        "criterion = nn.CrossEntropyLoss()\n",
        "optimizer = optim.SGD(net.parameters(), lr=1e-1, momentum=0.9)\n",
        "lr = lr_scheduler.StepLR(optimizer, step_size = 20, gamma=0.1)"
      ],
      "execution_count": null,
      "outputs": []
    },
    {
      "cell_type": "code",
      "metadata": {
        "colab": {
          "base_uri": "https://localhost:8080/",
          "height": 599
        },
        "id": "zOBJ2oDhpVt5",
        "outputId": "2981bfc0-4eed-4abf-f10a-ca36467ed855"
      },
      "source": [
        "best_acc = 0.\n",
        "for epoch in range(1, EPOCHS + 1):\n",
        "    lr.step(epoch)\n",
        "    start_train = time.time()\n",
        "    \n",
        "    print('Train Epoch: {}/{} ...'.format(epoch, EPOCHS))\n",
        "    net.train()\n",
        "    train_loss = 0.\n",
        "    batches = 0\n",
        "    for data in trainloader:\n",
        "        images, labels = data[0].cuda(), data[1].cuda()\n",
        "        \n",
        "        optimizer.zero_grad()\n",
        "        raw_logits = net(images)\n",
        "        loss = criterion(raw_logits, labels)\n",
        "        train_loss += loss * images.size(0)\n",
        "        batches += images.size(0)\n",
        "        loss.backward()\n",
        "        optimizer.step()\n",
        "        \n",
        "    writer.add_scalar('Loss/train', train_loss / batches, epoch)\n",
        "    total_time = time.time() - start_train\n",
        "    print('    total_loss: {:.4f} time: {:.0f}m {:.0f}s'\\\n",
        "        .format(train_loss / batches, total_time // 60, total_time % 60))\n",
        "    \n",
        "    start_test = time.time()\n",
        "    \n",
        "    print('Test Epoch: {}/{} ...'.format(epoch, EPOCHS))\n",
        "    net.eval()\n",
        "    test_loss = 0.\n",
        "    batches = 0\n",
        "    with torch.no_grad():\n",
        "        for data in testloader:\n",
        "            images, labels = data[0].cuda(), data[1].cuda()\n",
        "        \n",
        "            raw_logits = net(images)\n",
        "            loss = criterion(raw_logits, labels)\n",
        "            test_loss += loss*images.size(0)\n",
        "            batches += images.size(0)\n",
        "        \n",
        "            top_1 = []\n",
        "            acc = []\n",
        "            for out in raw_logits.cpu().detach().numpy():\n",
        "                top_1.append(np.argmax(out))\n",
        "            acc.append(accuracy_score(labels.cpu().detach().numpy(), top_1))\n",
        "        writer.add_scalar('Loss/test', test_loss / batches, epoch)\n",
        "        total_time = time.time() - start_test\n",
        "        writer.add_scalar('Accuracy/test', np.mean(acc), epoch)\n",
        "        print('    total_loss: {:.4f} time: {:.0f}m {:.0f}s'\\\n",
        "            .format(test_loss / batches, total_time // 60, total_time % 60))\n",
        "        accuracy = np.mean(acc)\n",
        "        print(accuracy)\n",
        "    \n",
        "    \n",
        "    \n",
        "    if True:\n",
        "        best_acc = accuracy\n",
        "        msg = 'Saving checkpoint: {}'.format(epoch)\n",
        "        print(msg)\n",
        "        if multi_gpus:\n",
        "            net_state_dict = net.module.state_dict()\n",
        "        else:\n",
        "            net_state_dict = net.state_dict()\n",
        "        if not os.path.exists('./model/'):\n",
        "            os.mkdir('./model/')\n",
        "        torch.save({\n",
        "            'epoch': epoch,\n",
        "            'net_state_dict': net_state_dict},\n",
        "            os.path.join('./model/', '%03d.ckpt' % epoch))\n",
        "print('finishing training')"
      ],
      "execution_count": null,
      "outputs": [
        {
          "output_type": "stream",
          "text": [
            "Train Epoch: 1/400 ...\n"
          ],
          "name": "stdout"
        },
        {
          "output_type": "stream",
          "text": [
            "/usr/local/lib/python3.6/dist-packages/torch/optim/lr_scheduler.py:156: UserWarning: The epoch parameter in `scheduler.step()` was not necessary and is being deprecated where possible. Please use `scheduler.step()` to step the scheduler. During the deprecation, if epoch is different from None, the closed form is used instead of the new chainable form, where available. Please open an issue if you are unable to replicate your use case: https://github.com/pytorch/pytorch/issues/new/choose.\n",
            "  warnings.warn(EPOCH_DEPRECATION_WARNING, UserWarning)\n",
            "/usr/local/lib/python3.6/dist-packages/torch/nn/modules/container.py:117: UserWarning: Implicit dimension choice for softmax has been deprecated. Change the call to include dim=X as an argument.\n",
            "  input = module(input)\n"
          ],
          "name": "stderr"
        },
        {
          "output_type": "stream",
          "text": [
            "    total_loss: 2.0148 time: 1m 39s\n",
            "Test Epoch: 1/400 ...\n",
            "    total_loss: 1.9985 time: 0m 18s\n",
            "0.4375\n",
            "Saving checkpoint: 1\n",
            "Train Epoch: 2/400 ...\n"
          ],
          "name": "stdout"
        },
        {
          "output_type": "error",
          "ename": "KeyboardInterrupt",
          "evalue": "ignored",
          "traceback": [
            "\u001b[0;31m---------------------------------------------------------------------------\u001b[0m",
            "\u001b[0;31mKeyboardInterrupt\u001b[0m                         Traceback (most recent call last)",
            "\u001b[0;32m<ipython-input-55-c0eed6434e80>\u001b[0m in \u001b[0;36m<module>\u001b[0;34m()\u001b[0m\n\u001b[1;32m     16\u001b[0m         \u001b[0mtrain_loss\u001b[0m \u001b[0;34m+=\u001b[0m \u001b[0mloss\u001b[0m \u001b[0;34m*\u001b[0m \u001b[0mimages\u001b[0m\u001b[0;34m.\u001b[0m\u001b[0msize\u001b[0m\u001b[0;34m(\u001b[0m\u001b[0;36m0\u001b[0m\u001b[0;34m)\u001b[0m\u001b[0;34m\u001b[0m\u001b[0;34m\u001b[0m\u001b[0m\n\u001b[1;32m     17\u001b[0m         \u001b[0mbatches\u001b[0m \u001b[0;34m+=\u001b[0m \u001b[0mimages\u001b[0m\u001b[0;34m.\u001b[0m\u001b[0msize\u001b[0m\u001b[0;34m(\u001b[0m\u001b[0;36m0\u001b[0m\u001b[0;34m)\u001b[0m\u001b[0;34m\u001b[0m\u001b[0;34m\u001b[0m\u001b[0m\n\u001b[0;32m---> 18\u001b[0;31m         \u001b[0mloss\u001b[0m\u001b[0;34m.\u001b[0m\u001b[0mbackward\u001b[0m\u001b[0;34m(\u001b[0m\u001b[0;34m)\u001b[0m\u001b[0;34m\u001b[0m\u001b[0;34m\u001b[0m\u001b[0m\n\u001b[0m\u001b[1;32m     19\u001b[0m         \u001b[0moptimizer\u001b[0m\u001b[0;34m.\u001b[0m\u001b[0mstep\u001b[0m\u001b[0;34m(\u001b[0m\u001b[0;34m)\u001b[0m\u001b[0;34m\u001b[0m\u001b[0;34m\u001b[0m\u001b[0m\n\u001b[1;32m     20\u001b[0m \u001b[0;34m\u001b[0m\u001b[0m\n",
            "\u001b[0;32m/usr/local/lib/python3.6/dist-packages/torch/tensor.py\u001b[0m in \u001b[0;36mbackward\u001b[0;34m(self, gradient, retain_graph, create_graph)\u001b[0m\n\u001b[1;32m    219\u001b[0m                 \u001b[0mretain_graph\u001b[0m\u001b[0;34m=\u001b[0m\u001b[0mretain_graph\u001b[0m\u001b[0;34m,\u001b[0m\u001b[0;34m\u001b[0m\u001b[0;34m\u001b[0m\u001b[0m\n\u001b[1;32m    220\u001b[0m                 create_graph=create_graph)\n\u001b[0;32m--> 221\u001b[0;31m         \u001b[0mtorch\u001b[0m\u001b[0;34m.\u001b[0m\u001b[0mautograd\u001b[0m\u001b[0;34m.\u001b[0m\u001b[0mbackward\u001b[0m\u001b[0;34m(\u001b[0m\u001b[0mself\u001b[0m\u001b[0;34m,\u001b[0m \u001b[0mgradient\u001b[0m\u001b[0;34m,\u001b[0m \u001b[0mretain_graph\u001b[0m\u001b[0;34m,\u001b[0m \u001b[0mcreate_graph\u001b[0m\u001b[0;34m)\u001b[0m\u001b[0;34m\u001b[0m\u001b[0;34m\u001b[0m\u001b[0m\n\u001b[0m\u001b[1;32m    222\u001b[0m \u001b[0;34m\u001b[0m\u001b[0m\n\u001b[1;32m    223\u001b[0m     \u001b[0;32mdef\u001b[0m \u001b[0mregister_hook\u001b[0m\u001b[0;34m(\u001b[0m\u001b[0mself\u001b[0m\u001b[0;34m,\u001b[0m \u001b[0mhook\u001b[0m\u001b[0;34m)\u001b[0m\u001b[0;34m:\u001b[0m\u001b[0;34m\u001b[0m\u001b[0;34m\u001b[0m\u001b[0m\n",
            "\u001b[0;32m/usr/local/lib/python3.6/dist-packages/torch/autograd/__init__.py\u001b[0m in \u001b[0;36mbackward\u001b[0;34m(tensors, grad_tensors, retain_graph, create_graph, grad_variables)\u001b[0m\n\u001b[1;32m    130\u001b[0m     Variable._execution_engine.run_backward(\n\u001b[1;32m    131\u001b[0m         \u001b[0mtensors\u001b[0m\u001b[0;34m,\u001b[0m \u001b[0mgrad_tensors_\u001b[0m\u001b[0;34m,\u001b[0m \u001b[0mretain_graph\u001b[0m\u001b[0;34m,\u001b[0m \u001b[0mcreate_graph\u001b[0m\u001b[0;34m,\u001b[0m\u001b[0;34m\u001b[0m\u001b[0;34m\u001b[0m\u001b[0m\n\u001b[0;32m--> 132\u001b[0;31m         allow_unreachable=True)  # allow_unreachable flag\n\u001b[0m\u001b[1;32m    133\u001b[0m \u001b[0;34m\u001b[0m\u001b[0m\n\u001b[1;32m    134\u001b[0m \u001b[0;34m\u001b[0m\u001b[0m\n",
            "\u001b[0;31mKeyboardInterrupt\u001b[0m: "
          ]
        }
      ]
    },
    {
      "cell_type": "code",
      "metadata": {
        "id": "FKnMEnD72OOA"
      },
      "source": [
        ""
      ],
      "execution_count": null,
      "outputs": []
    }
  ]
}